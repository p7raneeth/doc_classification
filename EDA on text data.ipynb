{
 "cells": [
  {
   "cell_type": "code",
   "execution_count": null,
   "id": "080ab16b",
   "metadata": {},
   "outputs": [],
   "source": [
    "data = ['Hello world ', 'polo world', 'how are you doing']"
   ]
  },
  {
   "cell_type": "code",
   "execution_count": null,
   "id": "1ee51e23",
   "metadata": {},
   "outputs": [],
   "source": [
    "from sklearn.feature_extraction.text import TfidfVectorizer"
   ]
  },
  {
   "cell_type": "code",
   "execution_count": null,
   "id": "06581cdf",
   "metadata": {},
   "outputs": [],
   "source": [
    "tfidf = TfidfVectorizer()"
   ]
  },
  {
   "cell_type": "code",
   "execution_count": null,
   "id": "bc3d635e",
   "metadata": {},
   "outputs": [],
   "source": [
    "response = tfidf.fit_transform(data)"
   ]
  },
  {
   "cell_type": "code",
   "execution_count": null,
   "id": "82b7ecb5",
   "metadata": {},
   "outputs": [],
   "source": [
    "tfidf.vocabulary_"
   ]
  },
  {
   "cell_type": "code",
   "execution_count": null,
   "id": "a2643867",
   "metadata": {},
   "outputs": [],
   "source": [
    "print(tfidf.fit_transform(data))"
   ]
  },
  {
   "cell_type": "code",
   "execution_count": null,
   "id": "39fd8757",
   "metadata": {},
   "outputs": [],
   "source": [
    "print(response)"
   ]
  },
  {
   "cell_type": "code",
   "execution_count": null,
   "id": "260f1840",
   "metadata": {},
   "outputs": [],
   "source": [
    "import gensim"
   ]
  },
  {
   "cell_type": "code",
   "execution_count": null,
   "id": "d276798f",
   "metadata": {},
   "outputs": [],
   "source": [
    "feature_names = tfidf.get_feature_names()\n",
    "\n",
    "for col in response.nonzero()[1]:\n",
    "        print(feature_names[col], '-', response[0, col])\n",
    "    "
   ]
  },
  {
   "cell_type": "code",
   "execution_count": null,
   "id": "8035a99d",
   "metadata": {},
   "outputs": [],
   "source": [
    "response.nonzero()"
   ]
  },
  {
   "cell_type": "code",
   "execution_count": null,
   "id": "4d614bca",
   "metadata": {},
   "outputs": [],
   "source": [
    "# trying to find important words for a particular class of documents"
   ]
  },
  {
   "cell_type": "code",
   "execution_count": null,
   "id": "8cbdb546",
   "metadata": {},
   "outputs": [],
   "source": [
    "pip install textblob"
   ]
  },
  {
   "cell_type": "code",
   "execution_count": null,
   "id": "b55ce5c0",
   "metadata": {},
   "outputs": [],
   "source": [
    "from textblob import TextBlob as tb"
   ]
  },
  {
   "cell_type": "code",
   "execution_count": null,
   "id": "a6ccfaec",
   "metadata": {},
   "outputs": [],
   "source": [
    "import pandas as pd"
   ]
  },
  {
   "cell_type": "code",
   "execution_count": null,
   "id": "f51722bb",
   "metadata": {},
   "outputs": [],
   "source": [
    "df = pd.read_csv('Datafiniti_Amazon_Consumer_Reviews_of_Amazon_Products_May19.csv')"
   ]
  },
  {
   "cell_type": "code",
   "execution_count": null,
   "id": "a62f7fa0",
   "metadata": {},
   "outputs": [],
   "source": [
    "df.head()"
   ]
  },
  {
   "cell_type": "code",
   "execution_count": null,
   "id": "b8e0dffa",
   "metadata": {},
   "outputs": [],
   "source": [
    "df['reviews.text']"
   ]
  },
  {
   "cell_type": "code",
   "execution_count": null,
   "id": "c41445f1",
   "metadata": {},
   "outputs": [],
   "source": [
    "df.columns"
   ]
  },
  {
   "cell_type": "code",
   "execution_count": null,
   "id": "2a7f32a9",
   "metadata": {},
   "outputs": [],
   "source": [
    "df['primaryCategories'] = df['primaryCategories'].str.replace('Electronics,Media', 'Electronics & Media')"
   ]
  },
  {
   "cell_type": "code",
   "execution_count": null,
   "id": "cde6e5d3",
   "metadata": {},
   "outputs": [],
   "source": [
    "df_hb = df[df.primaryCategories == 'Health & Beauty'][:100]"
   ]
  },
  {
   "cell_type": "code",
   "execution_count": null,
   "id": "86ae4803",
   "metadata": {},
   "outputs": [],
   "source": [
    "df_elect = df[df['primaryCategories'] == 'Electronics'][:100]\n",
    "\n",
    "df_hb = df[df['primaryCategories'] == 'Health & Beauty'][:100]\n",
    "\n",
    "df_ofsup = df[df['primaryCategories'] == 'Office Supplies'][:100]"
   ]
  },
  {
   "cell_type": "code",
   "execution_count": null,
   "id": "af85e917",
   "metadata": {},
   "outputs": [],
   "source": [
    "documents_elect = [tb(sent) for sent in df_elect['reviews.text'] ]\n",
    "documents_hb = [tb(sent) for sent in df_hb['reviews.text'] ]\n",
    "documents_ofsup = [tb(sent) for sent in df_ofsup['reviews.text'] ]"
   ]
  },
  {
   "cell_type": "code",
   "execution_count": null,
   "id": "2d50bb51",
   "metadata": {},
   "outputs": [],
   "source": [
    "documents_ofsup"
   ]
  },
  {
   "cell_type": "code",
   "execution_count": null,
   "id": "7e5bac07",
   "metadata": {},
   "outputs": [],
   "source": [
    "len(documents_ofsup)"
   ]
  },
  {
   "cell_type": "code",
   "execution_count": null,
   "id": "d4b99ddb",
   "metadata": {},
   "outputs": [],
   "source": [
    "import math\n",
    "from textblob import TextBlob as tb\n",
    "\n",
    "def tf(word, blob):\n",
    "    return blob.words.count(word) / len(blob.words)\n",
    "\n",
    "def n_containing(word, bloblist):\n",
    "    return sum(1 for blob in bloblist if word in blob.words)\n",
    "\n",
    "def idf(word, bloblist):\n",
    "    return math.log(len(bloblist) / (1 + n_containing(word, bloblist)))\n",
    "\n",
    "def tfidf(word, blob, bloblist):\n",
    "    return tf(word, blob) * idf(word, bloblist)"
   ]
  },
  {
   "cell_type": "code",
   "execution_count": null,
   "id": "27c60bab",
   "metadata": {},
   "outputs": [],
   "source": [
    "documents ,words, tf_idf_score = [], [], []\n",
    "for i, blob in enumerate(documents_elect):\n",
    "    scores = {word: tfidf(word, blob, documents_elect) for word in blob.words}\n",
    "    sorted_words = sorted(scores.items(), key=lambda x: x[1], reverse=True)\n",
    "    for word, score in sorted_words[:2]:\n",
    "        documents.append(f'document {i+1}')\n",
    "        words.append(word),\n",
    "        tf_idf_score.append(score)"
   ]
  },
  {
   "cell_type": "code",
   "execution_count": null,
   "id": "2d8287b7",
   "metadata": {},
   "outputs": [],
   "source": [
    "summary_dict = {'docum': documents,\n",
    " 'imp_words': words,\n",
    " 'tfidf_score': tf_idf_score}"
   ]
  },
  {
   "cell_type": "code",
   "execution_count": null,
   "id": "2043444f",
   "metadata": {},
   "outputs": [],
   "source": [
    "summary_elect = pd.DataFrame(summary_dict)"
   ]
  },
  {
   "cell_type": "code",
   "execution_count": null,
   "id": "be7e37a0",
   "metadata": {},
   "outputs": [],
   "source": [
    "documents ,words, tf_idf_score = [], [], []\n",
    "for i, blob in enumerate(documents_ofsup):\n",
    "    scores = {word: tfidf(word, blob, documents_ofsup) for word in blob.words}\n",
    "    sorted_words = sorted(scores.items(), key=lambda x: x[1], reverse=True)\n",
    "    for word, score in sorted_words[:2]:\n",
    "        documents.append(f'document {i+1}')\n",
    "        words.append(word),\n",
    "        tf_idf_score.append(score)"
   ]
  },
  {
   "cell_type": "code",
   "execution_count": null,
   "id": "6d7aef80",
   "metadata": {},
   "outputs": [],
   "source": [
    "summary_dict = {'docum': documents,\n",
    " 'imp_words': words,\n",
    " 'tfidf_score': tf_idf_score}"
   ]
  },
  {
   "cell_type": "code",
   "execution_count": null,
   "id": "8b0489b2",
   "metadata": {},
   "outputs": [],
   "source": [
    "summary_ofcsup = pd.DataFrame(summary_dict)"
   ]
  },
  {
   "cell_type": "code",
   "execution_count": null,
   "id": "e9f561bb",
   "metadata": {},
   "outputs": [],
   "source": [
    "summary_ofcsup.sort_values(by='tfidf_score', ascending=False)[:15]"
   ]
  },
  {
   "cell_type": "code",
   "execution_count": null,
   "id": "086079fc",
   "metadata": {},
   "outputs": [],
   "source": [
    "summary_elect.sort_values(by='tfidf_score', ascending=False)[:15]"
   ]
  },
  {
   "cell_type": "code",
   "execution_count": null,
   "id": "bd4c33b5",
   "metadata": {},
   "outputs": [],
   "source": []
  }
 ],
 "metadata": {
  "kernelspec": {
   "display_name": "Python 3",
   "language": "python",
   "name": "python3"
  },
  "language_info": {
   "codemirror_mode": {
    "name": "ipython",
    "version": 3
   },
   "file_extension": ".py",
   "mimetype": "text/x-python",
   "name": "python",
   "nbconvert_exporter": "python",
   "pygments_lexer": "ipython3",
   "version": "3.8.8"
  }
 },
 "nbformat": 4,
 "nbformat_minor": 5
}
