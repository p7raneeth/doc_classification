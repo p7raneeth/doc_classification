{
 "cells": [
  {
   "cell_type": "code",
   "execution_count": 1,
   "id": "17539e96",
   "metadata": {},
   "outputs": [],
   "source": [
    "data = ['Hello world ', 'polo world', 'how are you doing']"
   ]
  },
  {
   "cell_type": "code",
   "execution_count": 2,
   "id": "2bc31701",
   "metadata": {},
   "outputs": [],
   "source": [
    "from sklearn.feature_extraction.text import TfidfVectorizer"
   ]
  },
  {
   "cell_type": "code",
   "execution_count": 3,
   "id": "e2176f16",
   "metadata": {},
   "outputs": [],
   "source": [
    "tfidf = TfidfVectorizer()"
   ]
  },
  {
   "cell_type": "code",
   "execution_count": 4,
   "id": "7f51256d",
   "metadata": {},
   "outputs": [],
   "source": [
    "response = tfidf.fit_transform(data)"
   ]
  },
  {
   "cell_type": "code",
   "execution_count": 5,
   "id": "e2c5d85b",
   "metadata": {},
   "outputs": [
    {
     "data": {
      "text/plain": [
       "{'hello': 2, 'world': 5, 'polo': 4, 'how': 3, 'are': 0, 'you': 6, 'doing': 1}"
      ]
     },
     "execution_count": 5,
     "metadata": {},
     "output_type": "execute_result"
    }
   ],
   "source": [
    "tfidf.vocabulary_"
   ]
  },
  {
   "cell_type": "code",
   "execution_count": 14,
   "id": "c80c6d24",
   "metadata": {},
   "outputs": [
    {
     "name": "stdout",
     "output_type": "stream",
     "text": [
      "  (0, 5)\t0.6053485081062916\n",
      "  (0, 2)\t0.7959605415681652\n",
      "  (1, 4)\t0.7959605415681652\n",
      "  (1, 5)\t0.6053485081062916\n",
      "  (2, 1)\t0.5\n",
      "  (2, 6)\t0.5\n",
      "  (2, 0)\t0.5\n",
      "  (2, 3)\t0.5\n"
     ]
    }
   ],
   "source": [
    "print(tfidf.fit_transform(data))"
   ]
  },
  {
   "cell_type": "code",
   "execution_count": 6,
   "id": "616adc20",
   "metadata": {},
   "outputs": [
    {
     "name": "stdout",
     "output_type": "stream",
     "text": [
      "  (0, 5)\t0.6053485081062916\n",
      "  (0, 2)\t0.7959605415681652\n",
      "  (1, 4)\t0.7959605415681652\n",
      "  (1, 5)\t0.6053485081062916\n",
      "  (2, 1)\t0.5\n",
      "  (2, 6)\t0.5\n",
      "  (2, 0)\t0.5\n",
      "  (2, 3)\t0.5\n"
     ]
    }
   ],
   "source": [
    "print(response)"
   ]
  },
  {
   "cell_type": "code",
   "execution_count": 7,
   "id": "64a0a22c",
   "metadata": {},
   "outputs": [],
   "source": [
    "import gensim"
   ]
  },
  {
   "cell_type": "code",
   "execution_count": 9,
   "id": "4174f026",
   "metadata": {},
   "outputs": [
    {
     "name": "stdout",
     "output_type": "stream",
     "text": [
      "world - 0.6053485081062916\n",
      "hello - 0.7959605415681652\n",
      "polo - 0.0\n",
      "world - 0.6053485081062916\n",
      "doing - 0.0\n",
      "you - 0.0\n",
      "are - 0.0\n",
      "how - 0.0\n"
     ]
    }
   ],
   "source": [
    "feature_names = tfidf.get_feature_names()\n",
    "\n",
    "for col in response.nonzero()[1]:\n",
    "        print(feature_names[col], '-', response[0, col])\n",
    "    "
   ]
  },
  {
   "cell_type": "code",
   "execution_count": 10,
   "id": "bf7bb1a7",
   "metadata": {},
   "outputs": [
    {
     "data": {
      "text/plain": [
       "(array([0, 0, 1, 1, 2, 2, 2, 2], dtype=int32),\n",
       " array([5, 2, 4, 5, 1, 6, 0, 3], dtype=int32))"
      ]
     },
     "execution_count": 10,
     "metadata": {},
     "output_type": "execute_result"
    }
   ],
   "source": [
    "response.nonzero()"
   ]
  },
  {
   "cell_type": "code",
   "execution_count": 15,
   "id": "386b8b6c",
   "metadata": {},
   "outputs": [],
   "source": [
    "# trying to find important words for a particular class of documents"
   ]
  },
  {
   "cell_type": "code",
   "execution_count": 16,
   "id": "0592833f",
   "metadata": {},
   "outputs": [
    {
     "name": "stdout",
     "output_type": "stream",
     "text": [
      "Collecting textblob\n",
      "  Downloading textblob-0.17.1-py2.py3-none-any.whl (636 kB)\n",
      "\u001b[K     |████████████████████████████████| 636 kB 2.8 MB/s eta 0:00:01\n",
      "\u001b[?25hRequirement already satisfied: nltk>=3.1 in /Users/praneeth/opt/anaconda3/lib/python3.8/site-packages (from textblob) (3.6.1)\n",
      "Requirement already satisfied: tqdm in /Users/praneeth/opt/anaconda3/lib/python3.8/site-packages (from nltk>=3.1->textblob) (4.59.0)\n",
      "Requirement already satisfied: joblib in /Users/praneeth/opt/anaconda3/lib/python3.8/site-packages (from nltk>=3.1->textblob) (1.0.1)\n",
      "Requirement already satisfied: regex in /Users/praneeth/opt/anaconda3/lib/python3.8/site-packages (from nltk>=3.1->textblob) (2021.4.4)\n",
      "Requirement already satisfied: click in /Users/praneeth/opt/anaconda3/lib/python3.8/site-packages (from nltk>=3.1->textblob) (7.1.2)\n",
      "Installing collected packages: textblob\n",
      "Successfully installed textblob-0.17.1\n",
      "Note: you may need to restart the kernel to use updated packages.\n"
     ]
    }
   ],
   "source": [
    "pip install textblob"
   ]
  },
  {
   "cell_type": "code",
   "execution_count": 1,
   "id": "f172320d",
   "metadata": {},
   "outputs": [],
   "source": [
    "from textblob import TextBlob as tb"
   ]
  },
  {
   "cell_type": "code",
   "execution_count": 2,
   "id": "ee1e9fd2",
   "metadata": {},
   "outputs": [],
   "source": [
    "import pandas as pd"
   ]
  },
  {
   "cell_type": "code",
   "execution_count": 3,
   "id": "8b8ec509",
   "metadata": {},
   "outputs": [],
   "source": [
    "df = pd.read_csv('Datafiniti_Amazon_Consumer_Reviews_of_Amazon_Products_May19.csv')"
   ]
  },
  {
   "cell_type": "code",
   "execution_count": 4,
   "id": "f3284004",
   "metadata": {},
   "outputs": [
    {
     "data": {
      "text/html": [
       "<div>\n",
       "<style scoped>\n",
       "    .dataframe tbody tr th:only-of-type {\n",
       "        vertical-align: middle;\n",
       "    }\n",
       "\n",
       "    .dataframe tbody tr th {\n",
       "        vertical-align: top;\n",
       "    }\n",
       "\n",
       "    .dataframe thead th {\n",
       "        text-align: right;\n",
       "    }\n",
       "</style>\n",
       "<table border=\"1\" class=\"dataframe\">\n",
       "  <thead>\n",
       "    <tr style=\"text-align: right;\">\n",
       "      <th></th>\n",
       "      <th>id</th>\n",
       "      <th>dateAdded</th>\n",
       "      <th>dateUpdated</th>\n",
       "      <th>name</th>\n",
       "      <th>asins</th>\n",
       "      <th>brand</th>\n",
       "      <th>categories</th>\n",
       "      <th>primaryCategories</th>\n",
       "      <th>imageURLs</th>\n",
       "      <th>keys</th>\n",
       "      <th>...</th>\n",
       "      <th>reviews.didPurchase</th>\n",
       "      <th>reviews.doRecommend</th>\n",
       "      <th>reviews.id</th>\n",
       "      <th>reviews.numHelpful</th>\n",
       "      <th>reviews.rating</th>\n",
       "      <th>reviews.sourceURLs</th>\n",
       "      <th>reviews.text</th>\n",
       "      <th>reviews.title</th>\n",
       "      <th>reviews.username</th>\n",
       "      <th>sourceURLs</th>\n",
       "    </tr>\n",
       "  </thead>\n",
       "  <tbody>\n",
       "    <tr>\n",
       "      <th>0</th>\n",
       "      <td>AVpgNzjwLJeJML43Kpxn</td>\n",
       "      <td>2015-10-30T08:59:32Z</td>\n",
       "      <td>2019-04-25T09:08:16Z</td>\n",
       "      <td>AmazonBasics AAA Performance Alkaline Batterie...</td>\n",
       "      <td>B00QWO9P0O,B00LH3DMUO</td>\n",
       "      <td>Amazonbasics</td>\n",
       "      <td>AA,AAA,Health,Electronics,Health &amp; Household,C...</td>\n",
       "      <td>Health &amp; Beauty</td>\n",
       "      <td>https://images-na.ssl-images-amazon.com/images...</td>\n",
       "      <td>amazonbasics/hl002619,amazonbasicsaaaperforman...</td>\n",
       "      <td>...</td>\n",
       "      <td>NaN</td>\n",
       "      <td>NaN</td>\n",
       "      <td>NaN</td>\n",
       "      <td>NaN</td>\n",
       "      <td>3</td>\n",
       "      <td>https://www.amazon.com/product-reviews/B00QWO9...</td>\n",
       "      <td>I order 3 of them and one of the item is bad q...</td>\n",
       "      <td>... 3 of them and one of the item is bad quali...</td>\n",
       "      <td>Byger yang</td>\n",
       "      <td>https://www.barcodable.com/upc/841710106442,ht...</td>\n",
       "    </tr>\n",
       "    <tr>\n",
       "      <th>1</th>\n",
       "      <td>AVpgNzjwLJeJML43Kpxn</td>\n",
       "      <td>2015-10-30T08:59:32Z</td>\n",
       "      <td>2019-04-25T09:08:16Z</td>\n",
       "      <td>AmazonBasics AAA Performance Alkaline Batterie...</td>\n",
       "      <td>B00QWO9P0O,B00LH3DMUO</td>\n",
       "      <td>Amazonbasics</td>\n",
       "      <td>AA,AAA,Health,Electronics,Health &amp; Household,C...</td>\n",
       "      <td>Health &amp; Beauty</td>\n",
       "      <td>https://images-na.ssl-images-amazon.com/images...</td>\n",
       "      <td>amazonbasics/hl002619,amazonbasicsaaaperforman...</td>\n",
       "      <td>...</td>\n",
       "      <td>NaN</td>\n",
       "      <td>NaN</td>\n",
       "      <td>NaN</td>\n",
       "      <td>NaN</td>\n",
       "      <td>4</td>\n",
       "      <td>https://www.amazon.com/product-reviews/B00QWO9...</td>\n",
       "      <td>Bulk is always the less expensive way to go fo...</td>\n",
       "      <td>... always the less expensive way to go for pr...</td>\n",
       "      <td>ByMG</td>\n",
       "      <td>https://www.barcodable.com/upc/841710106442,ht...</td>\n",
       "    </tr>\n",
       "    <tr>\n",
       "      <th>2</th>\n",
       "      <td>AVpgNzjwLJeJML43Kpxn</td>\n",
       "      <td>2015-10-30T08:59:32Z</td>\n",
       "      <td>2019-04-25T09:08:16Z</td>\n",
       "      <td>AmazonBasics AAA Performance Alkaline Batterie...</td>\n",
       "      <td>B00QWO9P0O,B00LH3DMUO</td>\n",
       "      <td>Amazonbasics</td>\n",
       "      <td>AA,AAA,Health,Electronics,Health &amp; Household,C...</td>\n",
       "      <td>Health &amp; Beauty</td>\n",
       "      <td>https://images-na.ssl-images-amazon.com/images...</td>\n",
       "      <td>amazonbasics/hl002619,amazonbasicsaaaperforman...</td>\n",
       "      <td>...</td>\n",
       "      <td>NaN</td>\n",
       "      <td>NaN</td>\n",
       "      <td>NaN</td>\n",
       "      <td>NaN</td>\n",
       "      <td>5</td>\n",
       "      <td>https://www.amazon.com/product-reviews/B00QWO9...</td>\n",
       "      <td>Well they are not Duracell but for the price i...</td>\n",
       "      <td>... are not Duracell but for the price i am ha...</td>\n",
       "      <td>BySharon Lambert</td>\n",
       "      <td>https://www.barcodable.com/upc/841710106442,ht...</td>\n",
       "    </tr>\n",
       "    <tr>\n",
       "      <th>3</th>\n",
       "      <td>AVpgNzjwLJeJML43Kpxn</td>\n",
       "      <td>2015-10-30T08:59:32Z</td>\n",
       "      <td>2019-04-25T09:08:16Z</td>\n",
       "      <td>AmazonBasics AAA Performance Alkaline Batterie...</td>\n",
       "      <td>B00QWO9P0O,B00LH3DMUO</td>\n",
       "      <td>Amazonbasics</td>\n",
       "      <td>AA,AAA,Health,Electronics,Health &amp; Household,C...</td>\n",
       "      <td>Health &amp; Beauty</td>\n",
       "      <td>https://images-na.ssl-images-amazon.com/images...</td>\n",
       "      <td>amazonbasics/hl002619,amazonbasicsaaaperforman...</td>\n",
       "      <td>...</td>\n",
       "      <td>NaN</td>\n",
       "      <td>NaN</td>\n",
       "      <td>NaN</td>\n",
       "      <td>NaN</td>\n",
       "      <td>5</td>\n",
       "      <td>https://www.amazon.com/product-reviews/B00QWO9...</td>\n",
       "      <td>Seem to work as well as name brand batteries a...</td>\n",
       "      <td>... as well as name brand batteries at a much ...</td>\n",
       "      <td>Bymark sexson</td>\n",
       "      <td>https://www.barcodable.com/upc/841710106442,ht...</td>\n",
       "    </tr>\n",
       "    <tr>\n",
       "      <th>4</th>\n",
       "      <td>AVpgNzjwLJeJML43Kpxn</td>\n",
       "      <td>2015-10-30T08:59:32Z</td>\n",
       "      <td>2019-04-25T09:08:16Z</td>\n",
       "      <td>AmazonBasics AAA Performance Alkaline Batterie...</td>\n",
       "      <td>B00QWO9P0O,B00LH3DMUO</td>\n",
       "      <td>Amazonbasics</td>\n",
       "      <td>AA,AAA,Health,Electronics,Health &amp; Household,C...</td>\n",
       "      <td>Health &amp; Beauty</td>\n",
       "      <td>https://images-na.ssl-images-amazon.com/images...</td>\n",
       "      <td>amazonbasics/hl002619,amazonbasicsaaaperforman...</td>\n",
       "      <td>...</td>\n",
       "      <td>NaN</td>\n",
       "      <td>NaN</td>\n",
       "      <td>NaN</td>\n",
       "      <td>NaN</td>\n",
       "      <td>5</td>\n",
       "      <td>https://www.amazon.com/product-reviews/B00QWO9...</td>\n",
       "      <td>These batteries are very long lasting the pric...</td>\n",
       "      <td>... batteries are very long lasting the price ...</td>\n",
       "      <td>Bylinda</td>\n",
       "      <td>https://www.barcodable.com/upc/841710106442,ht...</td>\n",
       "    </tr>\n",
       "  </tbody>\n",
       "</table>\n",
       "<p>5 rows × 24 columns</p>\n",
       "</div>"
      ],
      "text/plain": [
       "                     id             dateAdded           dateUpdated  \\\n",
       "0  AVpgNzjwLJeJML43Kpxn  2015-10-30T08:59:32Z  2019-04-25T09:08:16Z   \n",
       "1  AVpgNzjwLJeJML43Kpxn  2015-10-30T08:59:32Z  2019-04-25T09:08:16Z   \n",
       "2  AVpgNzjwLJeJML43Kpxn  2015-10-30T08:59:32Z  2019-04-25T09:08:16Z   \n",
       "3  AVpgNzjwLJeJML43Kpxn  2015-10-30T08:59:32Z  2019-04-25T09:08:16Z   \n",
       "4  AVpgNzjwLJeJML43Kpxn  2015-10-30T08:59:32Z  2019-04-25T09:08:16Z   \n",
       "\n",
       "                                                name                  asins  \\\n",
       "0  AmazonBasics AAA Performance Alkaline Batterie...  B00QWO9P0O,B00LH3DMUO   \n",
       "1  AmazonBasics AAA Performance Alkaline Batterie...  B00QWO9P0O,B00LH3DMUO   \n",
       "2  AmazonBasics AAA Performance Alkaline Batterie...  B00QWO9P0O,B00LH3DMUO   \n",
       "3  AmazonBasics AAA Performance Alkaline Batterie...  B00QWO9P0O,B00LH3DMUO   \n",
       "4  AmazonBasics AAA Performance Alkaline Batterie...  B00QWO9P0O,B00LH3DMUO   \n",
       "\n",
       "          brand                                         categories  \\\n",
       "0  Amazonbasics  AA,AAA,Health,Electronics,Health & Household,C...   \n",
       "1  Amazonbasics  AA,AAA,Health,Electronics,Health & Household,C...   \n",
       "2  Amazonbasics  AA,AAA,Health,Electronics,Health & Household,C...   \n",
       "3  Amazonbasics  AA,AAA,Health,Electronics,Health & Household,C...   \n",
       "4  Amazonbasics  AA,AAA,Health,Electronics,Health & Household,C...   \n",
       "\n",
       "  primaryCategories                                          imageURLs  \\\n",
       "0   Health & Beauty  https://images-na.ssl-images-amazon.com/images...   \n",
       "1   Health & Beauty  https://images-na.ssl-images-amazon.com/images...   \n",
       "2   Health & Beauty  https://images-na.ssl-images-amazon.com/images...   \n",
       "3   Health & Beauty  https://images-na.ssl-images-amazon.com/images...   \n",
       "4   Health & Beauty  https://images-na.ssl-images-amazon.com/images...   \n",
       "\n",
       "                                                keys  ... reviews.didPurchase  \\\n",
       "0  amazonbasics/hl002619,amazonbasicsaaaperforman...  ...                 NaN   \n",
       "1  amazonbasics/hl002619,amazonbasicsaaaperforman...  ...                 NaN   \n",
       "2  amazonbasics/hl002619,amazonbasicsaaaperforman...  ...                 NaN   \n",
       "3  amazonbasics/hl002619,amazonbasicsaaaperforman...  ...                 NaN   \n",
       "4  amazonbasics/hl002619,amazonbasicsaaaperforman...  ...                 NaN   \n",
       "\n",
       "  reviews.doRecommend reviews.id reviews.numHelpful reviews.rating  \\\n",
       "0                 NaN        NaN                NaN              3   \n",
       "1                 NaN        NaN                NaN              4   \n",
       "2                 NaN        NaN                NaN              5   \n",
       "3                 NaN        NaN                NaN              5   \n",
       "4                 NaN        NaN                NaN              5   \n",
       "\n",
       "                                  reviews.sourceURLs  \\\n",
       "0  https://www.amazon.com/product-reviews/B00QWO9...   \n",
       "1  https://www.amazon.com/product-reviews/B00QWO9...   \n",
       "2  https://www.amazon.com/product-reviews/B00QWO9...   \n",
       "3  https://www.amazon.com/product-reviews/B00QWO9...   \n",
       "4  https://www.amazon.com/product-reviews/B00QWO9...   \n",
       "\n",
       "                                        reviews.text  \\\n",
       "0  I order 3 of them and one of the item is bad q...   \n",
       "1  Bulk is always the less expensive way to go fo...   \n",
       "2  Well they are not Duracell but for the price i...   \n",
       "3  Seem to work as well as name brand batteries a...   \n",
       "4  These batteries are very long lasting the pric...   \n",
       "\n",
       "                                       reviews.title  reviews.username  \\\n",
       "0  ... 3 of them and one of the item is bad quali...        Byger yang   \n",
       "1  ... always the less expensive way to go for pr...              ByMG   \n",
       "2  ... are not Duracell but for the price i am ha...  BySharon Lambert   \n",
       "3  ... as well as name brand batteries at a much ...     Bymark sexson   \n",
       "4  ... batteries are very long lasting the price ...           Bylinda   \n",
       "\n",
       "                                          sourceURLs  \n",
       "0  https://www.barcodable.com/upc/841710106442,ht...  \n",
       "1  https://www.barcodable.com/upc/841710106442,ht...  \n",
       "2  https://www.barcodable.com/upc/841710106442,ht...  \n",
       "3  https://www.barcodable.com/upc/841710106442,ht...  \n",
       "4  https://www.barcodable.com/upc/841710106442,ht...  \n",
       "\n",
       "[5 rows x 24 columns]"
      ]
     },
     "execution_count": 4,
     "metadata": {},
     "output_type": "execute_result"
    }
   ],
   "source": [
    "df.head()"
   ]
  },
  {
   "cell_type": "code",
   "execution_count": 5,
   "id": "a6a0aa3d",
   "metadata": {},
   "outputs": [
    {
     "data": {
      "text/plain": [
       "0        I order 3 of them and one of the item is bad q...\n",
       "1        Bulk is always the less expensive way to go fo...\n",
       "2        Well they are not Duracell but for the price i...\n",
       "3        Seem to work as well as name brand batteries a...\n",
       "4        These batteries are very long lasting the pric...\n",
       "                               ...                        \n",
       "28327    I got 2 of these for my 8 yr old twins. My 11 ...\n",
       "28328    I bought this for my niece for a Christmas gif...\n",
       "28329    Very nice for light internet browsing, keeping...\n",
       "28330    This Tablet does absolutely everything I want!...\n",
       "28331    At ninety dollars, the expectionations are low...\n",
       "Name: reviews.text, Length: 28332, dtype: object"
      ]
     },
     "execution_count": 5,
     "metadata": {},
     "output_type": "execute_result"
    }
   ],
   "source": [
    "df['reviews.text']"
   ]
  },
  {
   "cell_type": "code",
   "execution_count": 6,
   "id": "2f024739",
   "metadata": {},
   "outputs": [
    {
     "data": {
      "text/plain": [
       "Index(['id', 'dateAdded', 'dateUpdated', 'name', 'asins', 'brand',\n",
       "       'categories', 'primaryCategories', 'imageURLs', 'keys', 'manufacturer',\n",
       "       'manufacturerNumber', 'reviews.date', 'reviews.dateSeen',\n",
       "       'reviews.didPurchase', 'reviews.doRecommend', 'reviews.id',\n",
       "       'reviews.numHelpful', 'reviews.rating', 'reviews.sourceURLs',\n",
       "       'reviews.text', 'reviews.title', 'reviews.username', 'sourceURLs'],\n",
       "      dtype='object')"
      ]
     },
     "execution_count": 6,
     "metadata": {},
     "output_type": "execute_result"
    }
   ],
   "source": [
    "df.columns"
   ]
  },
  {
   "cell_type": "code",
   "execution_count": 13,
   "id": "17f346d0",
   "metadata": {},
   "outputs": [],
   "source": [
    "df['primaryCategories'] = df['primaryCategories'].str.replace('Electronics,Media', 'Electronics & Media')"
   ]
  },
  {
   "cell_type": "code",
   "execution_count": 56,
   "id": "ed02d306",
   "metadata": {},
   "outputs": [],
   "source": [
    "df_hb = df[df.primaryCategories == 'Health & Beauty'][:100]"
   ]
  },
  {
   "cell_type": "code",
   "execution_count": 50,
   "id": "ec81d627",
   "metadata": {},
   "outputs": [],
   "source": [
    "df_elect = df[df['primaryCategories'] == 'Electronics'][:100]\n",
    "\n",
    "df_hb = df[df['primaryCategories'] == 'Health & Beauty'][:100]\n",
    "\n",
    "df_ofsup = df[df['primaryCategories'] == 'Office Supplies'][:100]"
   ]
  },
  {
   "cell_type": "code",
   "execution_count": 57,
   "id": "8d6a934b",
   "metadata": {},
   "outputs": [],
   "source": [
    "documents_elect = [tb(sent) for sent in df_elect['reviews.text'] ]\n",
    "documents_hb = [tb(sent) for sent in df_hb['reviews.text'] ]\n",
    "documents_ofsup = [tb(sent) for sent in df_ofsup['reviews.text'] ]"
   ]
  },
  {
   "cell_type": "code",
   "execution_count": 96,
   "id": "683139a5",
   "metadata": {},
   "outputs": [
    {
     "data": {
      "text/plain": [
       "[TextBlob(\"This folder also expands on the bottom. Will allow A LOT more than when the bottom does not expand. Bought a second. I recommended this to my friends.\"),\n",
       " TextBlob(\"Exactly what I needed.\"),\n",
       " TextBlob(\"Nice product. Will work perfectly for my projects. Nice and sturdy. Thank you!\"),\n",
       " TextBlob(\"A useful folder organizer with good quality.\"),\n",
       " TextBlob(\"I love the portability of this expandable file good quality, good cost. I recommend\"),\n",
       " TextBlob(\"Exactly what I needed!!!!\"),\n",
       " TextBlob(\"Good product cheap price! Very happy with my purchase..\"),\n",
       " TextBlob(\"A very good document storage grat\"),\n",
       " TextBlob(\"Very sturdy and functional.\"),\n",
       " TextBlob(\"I love the kindle, although do then to drop them. Always get the insurance and best buy makes it easy to replace them\"),\n",
       " TextBlob(\"Got this for my dad as a gift. He loved it! Great alternative to an iPad\"),\n",
       " TextBlob(\"I love my original Kindle Fire but the size and features on the latest Kindle are a plus\"),\n",
       " TextBlob(\"Easy to setup, easy to use. I've had another tablet, but it wasn't as easy and comfortable to use. For what I bought it for, it's perfect for me. It weighs less than a pound (compared to my other tablet), and I can read what's on the screen easier. Without a manual, the best thing you can do is play with it. I'm still learning this and expect to get rolling on it very soon.\"),\n",
       " TextBlob(\"Easy to use wide variety of functions awesome price\"),\n",
       " TextBlob(\"I absolutely love my new kindle tablet!! I love the size and feel of it. It has auto blue shade. I can set it for what time I want it to dim.\"),\n",
       " TextBlob(\"I can do everything I need on this tablet while traveling - check my email, browse the internet with the silk browser app, youtube, free app games etc. Because I have an amazon prime account as well, I linked my tablet to it so I can access a huge variety of free music, tv and movies. There are several offline options to load files onto the SD card, or to your tablets memory, so you can watch movies or use it as a mp3 player while away from internet. I watched a 2 hour movie on the airplane and only went through 30% of the battery power. Beautiful screen, loud speakers with the option for headphones. I have no reason to want anything more expensive, such as an ipad or surface since this does all I need while away from home.\"),\n",
       " TextBlob(\"The Amazon fire HD10 is one of the best deals on the market. I've had a IPad and would rather have the HD10! It's what-1/3 of the price of a IPad and just as good, if not better\"),\n",
       " TextBlob(\"This Kindle in the largest,thinnest yetfastestand most durable. We purchase the geek squad insurance with it kindly. Best decision ever.\"),\n",
       " TextBlob(\"I think the kindle is the best value for the money, this is my third. Each model gets better than the last, I'm loving my 10.1. Comfortable to use does everything I need and beautiful video.\"),\n",
       " TextBlob(\"This was an upgrade from my Amazon 7 inch. Bigger screen was the key for me. It's great for listening to music, reading books, watching movies, tv sports, tv shows and playing all the games. Hours of relaxation and entertainment along with Amazon ' s new Alexa.\"),\n",
       " TextBlob(\"Gift for my wife, she loves it. Reads on it all the time.\"),\n",
       " TextBlob(\"Love the capabilities it has to offer.Downside, it totally shuts off by itself and you have to start what you doing all over again\"),\n",
       " TextBlob(\"Picture quality is very clear good size to take with me.I wished i would found a cover for this model at the store. Universal model does not work as to I have to take cover off to use camera\"),\n",
       " TextBlob(\"Bought this tablet for my 84 year old grandpa and he loves it. Easy to use\"),\n",
       " TextBlob(\"Love the tablet, not only for reading (upgrade from Kindle) but for searching the Internet, email, etc. And I can take it anywhere. Cheaper than an iPAD and does enough for what I need.\"),\n",
       " TextBlob(\"This was a great purchase met needs of 93 old mom in law who needed a large read space for bad eyes\"),\n",
       " TextBlob(\"I bought this for my daughter who wanted an iPad, but for about half the price she is completely happy with it - she even calls it her iPad. I think I may even buy one for myself to replace my aging iPad.\"),\n",
       " TextBlob(\"Excellent tablet both for reading books and for going to the web\"),\n",
       " TextBlob(\"I bought this Tablet for my Wife. She uses it every day. It is very usefulto her. She uses it in place of a computer. She watches movies on it.The Graphics are excellent.\"),\n",
       " TextBlob(\"We bought this because we thought it would be great for reading books and playing a few games. However, awkward size makes the device very weird to hold and generally not enjoyable. The Fire HD 8 shares the exact same specs and has a higher battery life. There's almost no reason to take this device over the 8.\"),\n",
       " TextBlob(\"I enjoyed the way the Fire 10 transfered all of my books, games and apps. It only took a little bit of time to go through the start up. The Fire starts up quick and I love the larger screen for reading my books. The colors are brilliant.\"),\n",
       " TextBlob(\"Love the bigger screen but do think this Fire HD 10TH runs a little slow. My last Fire HD was not as slow.\"),\n",
       " TextBlob(\"Nice size works fine needs to weigh a little less.\"),\n",
       " TextBlob(\"Kindle products are easy to use and set up. It does most everything the expensive tablets do.\"),\n",
       " TextBlob(\"Great table does everything that i need it for. Great resolution and screen for reading books\"),\n",
       " TextBlob(\"I had a 7 inch kindle hd tablet. I wanted a larger screen so I purchased the 10 inch kindle. I am very happy with the device. I surf the web, play some games, read books, and process my email.\"),\n",
       " TextBlob(\"I love the 2 cameras, and the video capabilities. I have set up the picture albums and can even share on Facebook and messenger. I like the side charger. Much better than front.I love the size too.\"),\n",
       " TextBlob(\"Purchased as a gift and the owner loves the functionality and size of the tablet.\"),\n",
       " TextBlob(\"Grandchild loves the tablet. Easy to set up and child and adult user griendly\"),\n",
       " TextBlob(\"I did some research on different types of tablets and this one had what I needed\"),\n",
       " TextBlob(\"The Kindle10 is OK, but a bit confusing to figure out. I do love the larger screen since I need to increase the text size. However, I did find a book that does explain the Kindle10 version on Amazon.\"),\n",
       " TextBlob(\"This is a great tablet for the money. The only thing I would like to see is a longer battery life. Otherwise it's perfect\"),\n",
       " TextBlob(\"Bought 3 for different and after 3 years mine went kerplot gona get new upgraded one for Christmas this year\"),\n",
       " TextBlob(\"Large display makes it easy to use. Very easy to use.\"),\n",
       " TextBlob(\"I love my new Kindle!! I would recommend this to everyone!! It has so many features and love the size!!\"),\n",
       " TextBlob(\"Got for my 9 year old grandson. Durable & plenty fast for his games. No more squenting to see his ph√≤ne\"),\n",
       " TextBlob(\"very happy. tablet or smart tv for bedroom. movies,news,games and web browsing. great picture and good sound. best product for price.\"),\n",
       " TextBlob(\"Use for entertainment only. It works GREAT. Best option for those that don't want to spend so much for an I Pad.\"),\n",
       " TextBlob(\"Although not the greatest tablets on the market when compared to Apple or Samsung products but when you weight in the price it is worth the purchase!\"),\n",
       " TextBlob(\"Very happy with my purchase!! I bought this for my Mom and it was easy for her to navigate and she was able to easily download books and games.\"),\n",
       " TextBlob(\"Love the larger screen and picture clarity. It is very easy to use.\"),\n",
       " TextBlob(\"Great tablet, great resolution, very light and fast speed.\"),\n",
       " TextBlob(\"Great Tablet.Performs very well so far.Pictures and graphics are of very good quality.\"),\n",
       " TextBlob(\"My old tablet died..needed a new fast. This one was alot better than my old one. Clear screen videos look amazing..Sound is better than expected..It was in stock too. Overall very happy item and buying experience!\"),\n",
       " TextBlob(\"This is a wonderful tablet. It's lite weight and super simple to use. I bought one for myself and thinking of getting one for my grandmother.\"),\n",
       " TextBlob(\"This is my first kindle and I have been very pleased with it for what I payed for it.\"),\n",
       " TextBlob(\"The tablet is fast, clear, and easy to use. Highly recommended!\"),\n",
       " TextBlob(\"My first tablet. OUTSTANDING for NETFLIX, email, etc.\"),\n",
       " TextBlob(\"very good product. Exactly what I wanted, and a very good price\"),\n",
       " TextBlob(\"Great notepad! Huge screen and easily downloaded apps to use. Love it!\"),\n",
       " TextBlob(\"I sometimes find the store a little intimidating, and certainly overwhelming. I don't always know what I want beforehand. My existing Surface failed in far to short a time frame, and since I really only used it to read I was able to replace its functions with a kindle fire, and I am actually much happier with it.\"),\n",
       " TextBlob(\"This was an Xmas gift for my wife. She had wanted a pad of some sort but I just couldn't afford an Ipad so I looked at the Fire as an alternative. First the screen size was just what I wanted. Second the price was very reasonable. Third it had functions and capabilities that were suitable for my wife's skills and needs. She absolutely loves it and I actually got a compliment on my present giving. That don't happen very often let me tell you. I will recommend this she's pleased I'm pleased what else do you need?  My son was able to piggyback off of this gift, and purchased her the cover to go with it. So it really worked for my family. And I made my wife happy .\"),\n",
       " TextBlob(\"The store representative took his time with me to choose the right size and the lady at the check out got me hooked up with Best Buy Program membership.\"),\n",
       " TextBlob(\"I've had my kindle fire 7.0 for more than 3 years. it works great but I wanted a bigger screen. I love it.\"),\n",
       " TextBlob(\"I had the smaller version of this & was looking to get rid of it & my google nexus. This is just what I wanted, it uses my Amazon prime account & takes a memory card so I can load it with all my videos I watch while at the gym.\"),\n",
       " TextBlob(\"I LOVE MY KINDLE! I surf the web, take pictures and play games on it. I use it everyday.\"),\n",
       " TextBlob(\"I love the new Kindle fire 10\" HD. I love the large screen to watch movies on.\"),\n",
       " TextBlob(\"I do not find this as easy to use as my original Kindle Fire but I do like the camera a lot better, though it is not clear megapixels\"),\n",
       " TextBlob(\"I bought this device for my wife. She has been using a Kindle Fire 7.I wanted something with a bigger screen for her.She likes it very much.\"),\n",
       " TextBlob(\"I love this Kindle 10, it is large enough to see very easily and very easy to handle when traveling. I love the size of it.\"),\n",
       " TextBlob(\"I bought this tablet for my wife. She likes the size for reading books and for reading info on the web. The tablet's size is a little big for just holding it and for carrying it around. It also has to be charged often, and that's not even considering time reading books. Hard to find a case for this latest kindle.\"),\n",
       " TextBlob(\"Love this product works great so far i would recommend this to others\"),\n",
       " TextBlob(\"use it everyday. enjoy reading using the Kindle Fire HD 10.\"),\n",
       " TextBlob(\"I love this device! Perfect size for my bad eyesight! Lol! I use it all the time! One down side is the .battery life is not great!\"),\n",
       " TextBlob(\"Bought this tablet a month or so ago and waited to see see how I'd like it. My husband has owned a Zoom and I've owned 2-8 inch Samsungs...this by far is my favorite. (we bought one for him the same time and he loves his too). I use it for email, games, social media, internet and some accounting. I love it. It's fast, reliable, easy to use, easy to see. It seems durable but for extra protection, I bought a shock case with a flip stand on the back so it can be protected and more versatile. My only wish would be that its battery lasted longer for my constant use...but I suppose everyone needs a break every few (2-4) hours. It does charge back up pretty fast.I think its a great tablet!\"),\n",
       " TextBlob(\"had a problem with my purchase, but Best Buy made it good, they are very good!\"),\n",
       " TextBlob(\"Love how user friendly the Kindle Fire is, for any age..\"),\n",
       " TextBlob(\"I absolutely love my Kindle-Fire HD 10 16 GB. I can read it day OR night without light. And the picture quality is amazing! I haven't had any problems with it so far other than it's so thin, you need a case so you don't drop it. Very easy to add games, music, and books. I have even ordered items through Amazon without problems. I highly recommend this product.\"),\n",
       " TextBlob(\"Upgraded from a 7\" to 10\" Kindle Fire and it is so worth it. Great picture. Good storage. Love my Kindle.\"),\n",
       " TextBlob(\"I love the kindle. I'm not completely happy with the sound quality of the speaker's. And, a month later it already seems to be lagging and freezing a bit. I have one music app, several books, and a few games on it. I don't seem to be using it as much as my 7 during long trips just because of the size.\"),\n",
       " TextBlob(\"I absolutely love my new Kindle. The size is perfect. My kids and I can't put it down!\"),\n",
       " TextBlob(\"Great tablet! New to me so I have a lot to learn about it's functions.\"),\n",
       " TextBlob(\"I JUST luv my Fire HD Tablet,love playing my games on it,so easy to carry around\"),\n",
       " TextBlob(\"This is my 3rd Kindle. I have continued to move up on the screen size and this one is so easy to see and read. I do however sometimes have a problem with it when I am online. It can take forever to load up a site and move from page to page so that can be annoying. I have extremely fast internet so that is not the problem and when I check strength of wifi connection it always says excellent so not sure why it takes so long. Do not have that problem on my other 2.\"),\n",
       " TextBlob(\"Got this Kindle Fire to replace a laptop that died. So far I have been very pleased. Finding new things that it can do. Not happy with the camera, but I might not know all the details about it yet.\"),\n",
       " TextBlob(\"My husband is up in years & really enjoys spending time on his Kindle. He had a smaller one & it gave out on him so this one is ideal. He spends hours on it & has hours of fun!!!\"),\n",
       " TextBlob(\"This is a great tablet. If you are upgrading like I did all your games can be moved over.\"),\n",
       " TextBlob(\"the first one I got was very slow. I turned it in today and this one works great\"),\n",
       " TextBlob(\"I don't care for having to close each window separately I would prefer to be able to select close all or exit all\"),\n",
       " TextBlob(\"I love it!! It can do it all!! Beautiful color graphics and in no time at all, I can watch a movie or play games or read my favorite novel. I love it!!\"),\n",
       " TextBlob(\"Nice phone for the price. Would recommend if on a budget.\"),\n",
       " TextBlob(\"I would recommend this tablet because of the value\"),\n",
       " TextBlob(\"Purchased this for my mother for her birthday. She loves it. The large screen is what she wanted most.\"),\n",
       " TextBlob(\"I love the kindle and have had one in one shape or another since they first came out, but I just could not take how slow this model was. I returned it and purchased a Samsung tablet.\"),\n",
       " TextBlob(\"Biggest and best Kindle yet. Light as a feather. Buy one today.\"),\n",
       " TextBlob(\"I bought this for a family member because they had the smaller 7\" Amazon Fire. The 10\" version can be held easier in my opinion\"),\n",
       " TextBlob(\"Can't live without this, use for email, banking, social media, reading, watching movies, tv shows, online college courses. Even prints to wireless printer.\"),\n",
       " TextBlob(\"Very good but does not take all aps unless it is related to Amazon. I could not get all the aps I wanted. Good tablet for reading.\"),\n",
       " TextBlob(\"The Fire 10 will do anything that the I Pad will do, and is at a much more attractive price.\"),\n",
       " TextBlob(\"Very nice. Easy to use. Got it to use with Amazon prime. Great combo.\")]"
      ]
     },
     "execution_count": 96,
     "metadata": {},
     "output_type": "execute_result"
    }
   ],
   "source": [
    "documents_ofsup"
   ]
  },
  {
   "cell_type": "code",
   "execution_count": 43,
   "id": "22469731",
   "metadata": {},
   "outputs": [
    {
     "data": {
      "text/plain": [
       "100"
      ]
     },
     "execution_count": 43,
     "metadata": {},
     "output_type": "execute_result"
    }
   ],
   "source": [
    "len(documents_ofsup)"
   ]
  },
  {
   "cell_type": "code",
   "execution_count": 85,
   "id": "5c4ee70b",
   "metadata": {},
   "outputs": [],
   "source": [
    "import math\n",
    "from textblob import TextBlob as tb\n",
    "\n",
    "def tf(word, blob):\n",
    "    return blob.words.count(word) / len(blob.words)\n",
    "\n",
    "def n_containing(word, bloblist):\n",
    "    return sum(1 for blob in bloblist if word in blob.words)\n",
    "\n",
    "def idf(word, bloblist):\n",
    "    return math.log(len(bloblist) / (1 + n_containing(word, bloblist)))\n",
    "\n",
    "def tfidf(word, blob, bloblist):\n",
    "    return tf(word, blob) * idf(word, bloblist)"
   ]
  },
  {
   "cell_type": "code",
   "execution_count": 86,
   "id": "5788d85f",
   "metadata": {},
   "outputs": [],
   "source": [
    "documents ,words, tf_idf_score = [], [], []\n",
    "for i, blob in enumerate(documents_elect):\n",
    "    scores = {word: tfidf(word, blob, documents_elect) for word in blob.words}\n",
    "    sorted_words = sorted(scores.items(), key=lambda x: x[1], reverse=True)\n",
    "    for word, score in sorted_words[:2]:\n",
    "        documents.append(f'document {i+1}')\n",
    "        words.append(word),\n",
    "        tf_idf_score.append(score)"
   ]
  },
  {
   "cell_type": "code",
   "execution_count": 87,
   "id": "817c9c76",
   "metadata": {},
   "outputs": [],
   "source": [
    "summary_dict = {'docum': documents,\n",
    " 'imp_words': words,\n",
    " 'tfidf_score': tf_idf_score}"
   ]
  },
  {
   "cell_type": "code",
   "execution_count": 88,
   "id": "c7141dc8",
   "metadata": {},
   "outputs": [],
   "source": [
    "summary_elect = pd.DataFrame(summary_dict)"
   ]
  },
  {
   "cell_type": "code",
   "execution_count": 92,
   "id": "a57cbef1",
   "metadata": {},
   "outputs": [],
   "source": [
    "documents ,words, tf_idf_score = [], [], []\n",
    "for i, blob in enumerate(documents_ofsup):\n",
    "    scores = {word: tfidf(word, blob, documents_ofsup) for word in blob.words}\n",
    "    sorted_words = sorted(scores.items(), key=lambda x: x[1], reverse=True)\n",
    "    for word, score in sorted_words[:2]:\n",
    "        documents.append(f'document {i+1}')\n",
    "        words.append(word),\n",
    "        tf_idf_score.append(score)"
   ]
  },
  {
   "cell_type": "code",
   "execution_count": 93,
   "id": "31ecc0ba",
   "metadata": {},
   "outputs": [],
   "source": [
    "summary_dict = {'docum': documents,\n",
    " 'imp_words': words,\n",
    " 'tfidf_score': tf_idf_score}"
   ]
  },
  {
   "cell_type": "code",
   "execution_count": 94,
   "id": "660425e0",
   "metadata": {},
   "outputs": [],
   "source": [
    "summary_ofcsup = pd.DataFrame(summary_dict)"
   ]
  },
  {
   "cell_type": "code",
   "execution_count": 95,
   "id": "62471688",
   "metadata": {},
   "outputs": [
    {
     "data": {
      "text/html": [
       "<div>\n",
       "<style scoped>\n",
       "    .dataframe tbody tr th:only-of-type {\n",
       "        vertical-align: middle;\n",
       "    }\n",
       "\n",
       "    .dataframe tbody tr th {\n",
       "        vertical-align: top;\n",
       "    }\n",
       "\n",
       "    .dataframe thead th {\n",
       "        text-align: right;\n",
       "    }\n",
       "</style>\n",
       "<table border=\"1\" class=\"dataframe\">\n",
       "  <thead>\n",
       "    <tr style=\"text-align: right;\">\n",
       "      <th></th>\n",
       "      <th>docum</th>\n",
       "      <th>imp_words</th>\n",
       "      <th>tfidf_score</th>\n",
       "    </tr>\n",
       "  </thead>\n",
       "  <tbody>\n",
       "    <tr>\n",
       "      <th>16</th>\n",
       "      <td>document 9</td>\n",
       "      <td>functional</td>\n",
       "      <td>0.978006</td>\n",
       "    </tr>\n",
       "    <tr>\n",
       "      <th>17</th>\n",
       "      <td>document 9</td>\n",
       "      <td>sturdy</td>\n",
       "      <td>0.876639</td>\n",
       "    </tr>\n",
       "    <tr>\n",
       "      <th>10</th>\n",
       "      <td>document 6</td>\n",
       "      <td>Exactly</td>\n",
       "      <td>0.804719</td>\n",
       "    </tr>\n",
       "    <tr>\n",
       "      <th>2</th>\n",
       "      <td>document 2</td>\n",
       "      <td>Exactly</td>\n",
       "      <td>0.804719</td>\n",
       "    </tr>\n",
       "    <tr>\n",
       "      <th>3</th>\n",
       "      <td>document 2</td>\n",
       "      <td>needed</td>\n",
       "      <td>0.703353</td>\n",
       "    </tr>\n",
       "    <tr>\n",
       "      <th>11</th>\n",
       "      <td>document 6</td>\n",
       "      <td>needed</td>\n",
       "      <td>0.703353</td>\n",
       "    </tr>\n",
       "    <tr>\n",
       "      <th>14</th>\n",
       "      <td>document 8</td>\n",
       "      <td>document</td>\n",
       "      <td>0.652004</td>\n",
       "    </tr>\n",
       "    <tr>\n",
       "      <th>15</th>\n",
       "      <td>document 8</td>\n",
       "      <td>grat</td>\n",
       "      <td>0.652004</td>\n",
       "    </tr>\n",
       "    <tr>\n",
       "      <th>6</th>\n",
       "      <td>document 4</td>\n",
       "      <td>useful</td>\n",
       "      <td>0.558860</td>\n",
       "    </tr>\n",
       "    <tr>\n",
       "      <th>7</th>\n",
       "      <td>document 4</td>\n",
       "      <td>organizer</td>\n",
       "      <td>0.558860</td>\n",
       "    </tr>\n",
       "    <tr>\n",
       "      <th>102</th>\n",
       "      <td>document 52</td>\n",
       "      <td>Great</td>\n",
       "      <td>0.535099</td>\n",
       "    </tr>\n",
       "    <tr>\n",
       "      <th>4</th>\n",
       "      <td>document 3</td>\n",
       "      <td>Nice</td>\n",
       "      <td>0.495212</td>\n",
       "    </tr>\n",
       "    <tr>\n",
       "      <th>115</th>\n",
       "      <td>document 58</td>\n",
       "      <td>NETFLIX</td>\n",
       "      <td>0.489003</td>\n",
       "    </tr>\n",
       "    <tr>\n",
       "      <th>114</th>\n",
       "      <td>document 58</td>\n",
       "      <td>OUTSTANDING</td>\n",
       "      <td>0.489003</td>\n",
       "    </tr>\n",
       "    <tr>\n",
       "      <th>103</th>\n",
       "      <td>document 52</td>\n",
       "      <td>great</td>\n",
       "      <td>0.453382</td>\n",
       "    </tr>\n",
       "  </tbody>\n",
       "</table>\n",
       "</div>"
      ],
      "text/plain": [
       "           docum    imp_words  tfidf_score\n",
       "16    document 9   functional     0.978006\n",
       "17    document 9       sturdy     0.876639\n",
       "10    document 6      Exactly     0.804719\n",
       "2     document 2      Exactly     0.804719\n",
       "3     document 2       needed     0.703353\n",
       "11    document 6       needed     0.703353\n",
       "14    document 8     document     0.652004\n",
       "15    document 8         grat     0.652004\n",
       "6     document 4       useful     0.558860\n",
       "7     document 4    organizer     0.558860\n",
       "102  document 52        Great     0.535099\n",
       "4     document 3         Nice     0.495212\n",
       "115  document 58      NETFLIX     0.489003\n",
       "114  document 58  OUTSTANDING     0.489003\n",
       "103  document 52        great     0.453382"
      ]
     },
     "execution_count": 95,
     "metadata": {},
     "output_type": "execute_result"
    }
   ],
   "source": [
    "summary_ofcsup.sort_values(by='tfidf_score', ascending=False)[:15]"
   ]
  },
  {
   "cell_type": "code",
   "execution_count": 91,
   "id": "e1004672",
   "metadata": {},
   "outputs": [
    {
     "data": {
      "text/html": [
       "<div>\n",
       "<style scoped>\n",
       "    .dataframe tbody tr th:only-of-type {\n",
       "        vertical-align: middle;\n",
       "    }\n",
       "\n",
       "    .dataframe tbody tr th {\n",
       "        vertical-align: top;\n",
       "    }\n",
       "\n",
       "    .dataframe thead th {\n",
       "        text-align: right;\n",
       "    }\n",
       "</style>\n",
       "<table border=\"1\" class=\"dataframe\">\n",
       "  <thead>\n",
       "    <tr style=\"text-align: right;\">\n",
       "      <th></th>\n",
       "      <th>docum</th>\n",
       "      <th>imp_words</th>\n",
       "      <th>tfidf_score</th>\n",
       "    </tr>\n",
       "  </thead>\n",
       "  <tbody>\n",
       "    <tr>\n",
       "      <th>64</th>\n",
       "      <td>document 33</td>\n",
       "      <td>Love</td>\n",
       "      <td>1.609438</td>\n",
       "    </tr>\n",
       "    <tr>\n",
       "      <th>194</th>\n",
       "      <td>document 98</td>\n",
       "      <td>Works</td>\n",
       "      <td>1.497866</td>\n",
       "    </tr>\n",
       "    <tr>\n",
       "      <th>195</th>\n",
       "      <td>document 98</td>\n",
       "      <td>great</td>\n",
       "      <td>0.757064</td>\n",
       "    </tr>\n",
       "    <tr>\n",
       "      <th>140</th>\n",
       "      <td>document 71</td>\n",
       "      <td>priced</td>\n",
       "      <td>0.652004</td>\n",
       "    </tr>\n",
       "    <tr>\n",
       "      <th>141</th>\n",
       "      <td>document 71</td>\n",
       "      <td>reasonably</td>\n",
       "      <td>0.584426</td>\n",
       "    </tr>\n",
       "    <tr>\n",
       "      <th>150</th>\n",
       "      <td>document 76</td>\n",
       "      <td>problems</td>\n",
       "      <td>0.584426</td>\n",
       "    </tr>\n",
       "    <tr>\n",
       "      <th>168</th>\n",
       "      <td>document 85</td>\n",
       "      <td>Is</td>\n",
       "      <td>0.558860</td>\n",
       "    </tr>\n",
       "    <tr>\n",
       "      <th>151</th>\n",
       "      <td>document 76</td>\n",
       "      <td>far</td>\n",
       "      <td>0.536479</td>\n",
       "    </tr>\n",
       "    <tr>\n",
       "      <th>8</th>\n",
       "      <td>document 5</td>\n",
       "      <td>Echo</td>\n",
       "      <td>0.460238</td>\n",
       "    </tr>\n",
       "    <tr>\n",
       "      <th>169</th>\n",
       "      <td>document 85</td>\n",
       "      <td>same</td>\n",
       "      <td>0.459839</td>\n",
       "    </tr>\n",
       "    <tr>\n",
       "      <th>5</th>\n",
       "      <td>document 3</td>\n",
       "      <td>boycotting</td>\n",
       "      <td>0.434669</td>\n",
       "    </tr>\n",
       "    <tr>\n",
       "      <th>4</th>\n",
       "      <td>document 3</td>\n",
       "      <td>dollars</td>\n",
       "      <td>0.434669</td>\n",
       "    </tr>\n",
       "    <tr>\n",
       "      <th>142</th>\n",
       "      <td>document 72</td>\n",
       "      <td>Everything</td>\n",
       "      <td>0.434669</td>\n",
       "    </tr>\n",
       "    <tr>\n",
       "      <th>174</th>\n",
       "      <td>document 88</td>\n",
       "      <td>kindle</td>\n",
       "      <td>0.427962</td>\n",
       "    </tr>\n",
       "    <tr>\n",
       "      <th>14</th>\n",
       "      <td>document 8</td>\n",
       "      <td>THE</td>\n",
       "      <td>0.391202</td>\n",
       "    </tr>\n",
       "  </tbody>\n",
       "</table>\n",
       "</div>"
      ],
      "text/plain": [
       "           docum   imp_words  tfidf_score\n",
       "64   document 33        Love     1.609438\n",
       "194  document 98       Works     1.497866\n",
       "195  document 98       great     0.757064\n",
       "140  document 71      priced     0.652004\n",
       "141  document 71  reasonably     0.584426\n",
       "150  document 76    problems     0.584426\n",
       "168  document 85          Is     0.558860\n",
       "151  document 76         far     0.536479\n",
       "8     document 5        Echo     0.460238\n",
       "169  document 85        same     0.459839\n",
       "5     document 3  boycotting     0.434669\n",
       "4     document 3     dollars     0.434669\n",
       "142  document 72  Everything     0.434669\n",
       "174  document 88      kindle     0.427962\n",
       "14    document 8         THE     0.391202"
      ]
     },
     "execution_count": 91,
     "metadata": {},
     "output_type": "execute_result"
    }
   ],
   "source": [
    "summary_elect.sort_values(by='tfidf_score', ascending=False)[:15]"
   ]
  },
  {
   "cell_type": "code",
   "execution_count": null,
   "id": "0e5c478a",
   "metadata": {},
   "outputs": [],
   "source": []
  }
 ],
 "metadata": {
  "kernelspec": {
   "display_name": "Python 3",
   "language": "python",
   "name": "python3"
  },
  "language_info": {
   "codemirror_mode": {
    "name": "ipython",
    "version": 3
   },
   "file_extension": ".py",
   "mimetype": "text/x-python",
   "name": "python",
   "nbconvert_exporter": "python",
   "pygments_lexer": "ipython3",
   "version": "3.8.8"
  }
 },
 "nbformat": 4,
 "nbformat_minor": 5
}
